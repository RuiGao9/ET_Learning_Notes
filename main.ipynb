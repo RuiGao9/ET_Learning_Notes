{
  "cells": [
    {
      "cell_type": "markdown",
      "id": "4d456220",
      "metadata": {},
      "source": [
        "# 📘 ETo CIMIS Calculation – README\n",
        "\n",
        "This notebook demonstrates how to calculate **hourly reference evapotranspiration (RET)** and **daily ETo** using the `eto_hourly_cimis` function, following the **CIMIS method** and equations from the provided flowchart.\n",
        "\n",
        "---\n",
        "\n",
        "## 🔧 Required Inputs\n",
        "\n",
        "The function `eto_hourly_cimis()` requires the following inputs for each **hour**:\n",
        "\n",
        "| Variable      | Description                               | Units     | Example Range      |\n",
        "|---------------|-------------------------------------------|-----------|---------------------|\n",
        "| `T_C`         | Mean hourly air temperature               | °C        | 10 to 45            |\n",
        "| `ea_kPa`      | Mean hourly actual vapor pressure          | kPa       | 0.5 to 3.5          |\n",
        "| `Rn_Wm2`      | Mean hourly net radiation                  | W/m²      | -50 (night) to 700  |\n",
        "| `U2_ms`       | Mean hourly wind speed at 2 meters         | m/s       | 0.1 to 6            |\n",
        "| `Z_m`         | Elevation above mean sea level             | m         | 0 to 3000           |\n",
        "| `time_index`  | Hourly timestamps (optional, for plotting) | datetime  | e.g., hourly DatetimeIndex |\n",
        "\n",
        "---\n",
        "\n",
        "## 📤 Outputs\n",
        "\n",
        "If `time_index` is provided, the function returns:\n",
        "\n",
        "- `df_hourly`: a DataFrame with hourly RET and intermediate variables.\n",
        "- `eto_daily`: a Series of daily ETo totals (mm/day), computed by summing 24 RET values per day.\n",
        "\n",
        "---\n",
        "\n",
        "## ✅ Output Units\n",
        "\n",
        "- **Hourly RET** → mm/hour\n",
        "- **Daily ETo** → mm/day\n",
        "\n",
        "---\n",
        "\n",
        "## 📁 Output Files (example names)\n",
        "\n",
        "- `outputs/hourly_components_and_RET.csv`\n",
        "- `outputs/daily_ETo.csv`\n",
        "\n",
        "---\n",
        "\n",
        "## 🧠 Notes\n",
        "\n",
        "- The method follows CIMIS guidelines and matches the flowchart + formulas you provided.\n",
        "- Day/night conditions are handled using Rn sign for the wind function FU2.\n",
        "- Inputs can be NumPy arrays, Pandas Series, or scalars (broadcastable).\n",
        "\n"
      ]
    },
    {
      "cell_type": "code",
      "execution_count": 3,
      "id": "b69c0e86",
      "metadata": {},
      "outputs": [
        {
          "ename": "KeyError",
          "evalue": "'U2'",
          "output_type": "error",
          "traceback": [
            "\u001b[1;31m---------------------------------------------------------------------------\u001b[0m",
            "\u001b[1;31mKeyError\u001b[0m                                  Traceback (most recent call last)",
            "File \u001b[1;32mc:\\tools\\Anaconda\\envs\\MachineLearn\\Lib\\site-packages\\pandas\\core\\indexes\\base.py:3805\u001b[0m, in \u001b[0;36mIndex.get_loc\u001b[1;34m(self, key)\u001b[0m\n\u001b[0;32m   3804\u001b[0m \u001b[38;5;28;01mtry\u001b[39;00m:\n\u001b[1;32m-> 3805\u001b[0m     \u001b[38;5;28;01mreturn\u001b[39;00m \u001b[38;5;28;43mself\u001b[39;49m\u001b[38;5;241;43m.\u001b[39;49m\u001b[43m_engine\u001b[49m\u001b[38;5;241;43m.\u001b[39;49m\u001b[43mget_loc\u001b[49m\u001b[43m(\u001b[49m\u001b[43mcasted_key\u001b[49m\u001b[43m)\u001b[49m\n\u001b[0;32m   3806\u001b[0m \u001b[38;5;28;01mexcept\u001b[39;00m \u001b[38;5;167;01mKeyError\u001b[39;00m \u001b[38;5;28;01mas\u001b[39;00m err:\n",
            "File \u001b[1;32mindex.pyx:167\u001b[0m, in \u001b[0;36mpandas._libs.index.IndexEngine.get_loc\u001b[1;34m()\u001b[0m\n",
            "File \u001b[1;32mindex.pyx:196\u001b[0m, in \u001b[0;36mpandas._libs.index.IndexEngine.get_loc\u001b[1;34m()\u001b[0m\n",
            "File \u001b[1;32mpandas\\\\_libs\\\\hashtable_class_helper.pxi:7081\u001b[0m, in \u001b[0;36mpandas._libs.hashtable.PyObjectHashTable.get_item\u001b[1;34m()\u001b[0m\n",
            "File \u001b[1;32mpandas\\\\_libs\\\\hashtable_class_helper.pxi:7089\u001b[0m, in \u001b[0;36mpandas._libs.hashtable.PyObjectHashTable.get_item\u001b[1;34m()\u001b[0m\n",
            "\u001b[1;31mKeyError\u001b[0m: 'U2'",
            "\nThe above exception was the direct cause of the following exception:\n",
            "\u001b[1;31mKeyError\u001b[0m                                  Traceback (most recent call last)",
            "Cell \u001b[1;32mIn[3], line 29\u001b[0m\n\u001b[0;32m     27\u001b[0m ea_kPa \u001b[38;5;241m=\u001b[39m RH \u001b[38;5;241m/\u001b[39m \u001b[38;5;241m100.0\u001b[39m \u001b[38;5;241m*\u001b[39m es\n\u001b[0;32m     28\u001b[0m df[\u001b[38;5;124m'\u001b[39m\u001b[38;5;124mea_kPa\u001b[39m\u001b[38;5;124m'\u001b[39m] \u001b[38;5;241m=\u001b[39m ea_kPa\n\u001b[1;32m---> 29\u001b[0m U2 \u001b[38;5;241m=\u001b[39m \u001b[43mdf\u001b[49m\u001b[43m[\u001b[49m\u001b[38;5;124;43m'\u001b[39;49m\u001b[38;5;124;43mU2\u001b[39;49m\u001b[38;5;124;43m'\u001b[39;49m\u001b[43m]\u001b[49m\u001b[38;5;241m.\u001b[39mastype(\u001b[38;5;28mfloat\u001b[39m)\n\u001b[0;32m     31\u001b[0m \u001b[38;5;66;03m# Step 5: Add elevation (Z = 63.4 m)\u001b[39;00m\n\u001b[0;32m     32\u001b[0m Z_m \u001b[38;5;241m=\u001b[39m \u001b[38;5;241m63.4\u001b[39m\n",
            "File \u001b[1;32mc:\\tools\\Anaconda\\envs\\MachineLearn\\Lib\\site-packages\\pandas\\core\\frame.py:4102\u001b[0m, in \u001b[0;36mDataFrame.__getitem__\u001b[1;34m(self, key)\u001b[0m\n\u001b[0;32m   4100\u001b[0m \u001b[38;5;28;01mif\u001b[39;00m \u001b[38;5;28mself\u001b[39m\u001b[38;5;241m.\u001b[39mcolumns\u001b[38;5;241m.\u001b[39mnlevels \u001b[38;5;241m>\u001b[39m \u001b[38;5;241m1\u001b[39m:\n\u001b[0;32m   4101\u001b[0m     \u001b[38;5;28;01mreturn\u001b[39;00m \u001b[38;5;28mself\u001b[39m\u001b[38;5;241m.\u001b[39m_getitem_multilevel(key)\n\u001b[1;32m-> 4102\u001b[0m indexer \u001b[38;5;241m=\u001b[39m \u001b[38;5;28;43mself\u001b[39;49m\u001b[38;5;241;43m.\u001b[39;49m\u001b[43mcolumns\u001b[49m\u001b[38;5;241;43m.\u001b[39;49m\u001b[43mget_loc\u001b[49m\u001b[43m(\u001b[49m\u001b[43mkey\u001b[49m\u001b[43m)\u001b[49m\n\u001b[0;32m   4103\u001b[0m \u001b[38;5;28;01mif\u001b[39;00m is_integer(indexer):\n\u001b[0;32m   4104\u001b[0m     indexer \u001b[38;5;241m=\u001b[39m [indexer]\n",
            "File \u001b[1;32mc:\\tools\\Anaconda\\envs\\MachineLearn\\Lib\\site-packages\\pandas\\core\\indexes\\base.py:3812\u001b[0m, in \u001b[0;36mIndex.get_loc\u001b[1;34m(self, key)\u001b[0m\n\u001b[0;32m   3807\u001b[0m     \u001b[38;5;28;01mif\u001b[39;00m \u001b[38;5;28misinstance\u001b[39m(casted_key, \u001b[38;5;28mslice\u001b[39m) \u001b[38;5;129;01mor\u001b[39;00m (\n\u001b[0;32m   3808\u001b[0m         \u001b[38;5;28misinstance\u001b[39m(casted_key, abc\u001b[38;5;241m.\u001b[39mIterable)\n\u001b[0;32m   3809\u001b[0m         \u001b[38;5;129;01mand\u001b[39;00m \u001b[38;5;28many\u001b[39m(\u001b[38;5;28misinstance\u001b[39m(x, \u001b[38;5;28mslice\u001b[39m) \u001b[38;5;28;01mfor\u001b[39;00m x \u001b[38;5;129;01min\u001b[39;00m casted_key)\n\u001b[0;32m   3810\u001b[0m     ):\n\u001b[0;32m   3811\u001b[0m         \u001b[38;5;28;01mraise\u001b[39;00m InvalidIndexError(key)\n\u001b[1;32m-> 3812\u001b[0m     \u001b[38;5;28;01mraise\u001b[39;00m \u001b[38;5;167;01mKeyError\u001b[39;00m(key) \u001b[38;5;28;01mfrom\u001b[39;00m \u001b[38;5;21;01merr\u001b[39;00m\n\u001b[0;32m   3813\u001b[0m \u001b[38;5;28;01mexcept\u001b[39;00m \u001b[38;5;167;01mTypeError\u001b[39;00m:\n\u001b[0;32m   3814\u001b[0m     \u001b[38;5;66;03m# If we have a listlike key, _check_indexing_error will raise\u001b[39;00m\n\u001b[0;32m   3815\u001b[0m     \u001b[38;5;66;03m#  InvalidIndexError. Otherwise we fall through and re-raise\u001b[39;00m\n\u001b[0;32m   3816\u001b[0m     \u001b[38;5;66;03m#  the TypeError.\u001b[39;00m\n\u001b[0;32m   3817\u001b[0m     \u001b[38;5;28mself\u001b[39m\u001b[38;5;241m.\u001b[39m_check_indexing_error(key)\n",
            "\u001b[1;31mKeyError\u001b[0m: 'U2'"
          ]
        }
      ],
      "source": [
        "import pandas as pd\n",
        "import numpy as np\n",
        "from pathlib import Path\n",
        "\n",
        "# Step 1: Load the Excel file\n",
        "input_path = Path(\"Inputs\") / \"ec_part_data.xlsx\"\n",
        "df_raw = pd.read_excel(input_path)\n",
        "\n",
        "# Step 2: Parse TIMESTAMP_END into datetime\n",
        "# TIMESTAMP_END format: YYYYMMDDHHMM (e.g., 202508260030)\n",
        "df_raw['time'] = pd.to_datetime(df_raw['TIMESTAMP_END'].astype(str), format='%Y%m%d%H%M')\n",
        "\n",
        "# Step 3: Rename columns to shorter names\n",
        "df = df_raw.rename(columns={\n",
        "    'TA': 'T_C',    # Air temperature (°C)\n",
        "    'RH': 'RH_pct', # Relative humidity (%)\n",
        "    'Rn': 'Rn_Wm2',  # Net radiation (W/m²)\n",
        "    'U2': 'U2_ms'   # Wind speed at 2m (m/s)\n",
        "})\n",
        "\n",
        "# Step 4: Compute vapor pressure (ea_kPa) from RH and T\n",
        "# Formula: ea = RH (%) × es / 100\n",
        "# where es = 0.6108 * exp((17.27 * T) / (237.3 + T))\n",
        "T = df['T_C'].astype(float)\n",
        "RH = df['RH_pct'].astype(float)\n",
        "es = 0.6108 * np.exp((17.27 * T) / (237.3 + T))\n",
        "ea_kPa = RH / 100.0 * es\n",
        "df['ea_kPa'] = ea_kPa\n",
        "U2 = df['U2'].astype(float)\n",
        "\n",
        "# Step 5: Add elevation (Z = 63.4 m)\n",
        "Z_m = 63.4\n",
        "df['Z_m'] = Z_m\n",
        "\n",
        "# Step 6: Set datetime as index (optional but useful)\n",
        "df = df.set_index('time')\n",
        "\n",
        "# Step 8: Preview the prepared DataFrame\n",
        "df[['T_C', 'RH_pct', 'Rn_Wm2', 'ea_kPa', 'U2_ms']].head()"
      ]
    },
    {
      "cell_type": "code",
      "execution_count": 6,
      "id": "c6063bbf",
      "metadata": {},
      "outputs": [],
      "source": [
        "# 1) Imports and path setup\n",
        "import sys\n",
        "from pathlib import Path\n",
        "\n",
        "# Assume this notebook sits at project root and 'Functions/eto_cimis.py' lives in ./Functions\n",
        "project_root = Path.cwd()\n",
        "functions_dir = project_root / \"Functions\"\n",
        "if str(project_root) not in sys.path:\n",
        "    sys.path.insert(0, str(project_root))\n",
        "if str(functions_dir) not in sys.path:\n",
        "    sys.path.insert(0, str(functions_dir))\n",
        "\n",
        "from Functions.eto_cimis import eto_cimis\n",
        "\n",
        "import numpy as np\n",
        "import pandas as pd\n",
        "import matplotlib.pyplot as plt"
      ]
    },
    {
      "cell_type": "code",
      "execution_count": 7,
      "id": "24f5c824",
      "metadata": {},
      "outputs": [
        {
          "name": "stderr",
          "output_type": "stream",
          "text": [
            "C:\\Users\\Raymond G\\AppData\\Local\\Temp\\ipykernel_45392\\57318631.py:3: FutureWarning: 'H' is deprecated and will be removed in a future version, please use 'h' instead.\n",
            "  ti = pd.date_range(start, periods=48, freq=\"H\")  # hourly 2 days\n"
          ]
        }
      ],
      "source": [
        "# 2) Create demo hourly data (48 hours)\n",
        "start = pd.Timestamp(\"2021-07-01 00:00:00\")\n",
        "ti = pd.date_range(start, periods=48, freq=\"H\")  # hourly 2 days\n",
        "\n",
        "rng = np.random.default_rng(42)\n",
        "\n",
        "# Temperature (°C): diurnal cycle ~ 18–32\n",
        "T_daily_amp = 7\n",
        "T_base = 25\n",
        "hours = np.arange(len(ti))\n",
        "T_C = T_base + T_daily_amp * np.sin(2 * np.pi * (hours % 24) / 24.0) + rng.normal(0, 0.5, len(ti))\n",
        "\n",
        "# Saturation vapor pressure (kPa) for generating a consistent ea\n",
        "es = 0.6108 * np.exp((17.27 * T_C) / (237.3 + T_C))\n",
        "\n",
        "# Relative humidity ~ 35–55% (random)\n",
        "RH = rng.uniform(35, 55, len(ti)) / 100.0\n",
        "ea_kPa = RH * es\n",
        "\n",
        "# Net radiation Rn (W/m^2): positive daytime, negative small at night\n",
        "day_factor = (np.sin(2 * np.pi * (hours % 24) / 24.0) > 0).astype(float)\n",
        "Rn_day = 500 * np.sin(2 * np.pi * (hours % 24) / 24.0).clip(min=0)\n",
        "Rn_night = -50 * (1 - day_factor)\n",
        "Rn_Wm2 = Rn_day + Rn_night + rng.normal(0, 10, len(ti))\n",
        "\n",
        "# Wind speed at 2 m (m/s)\n",
        "U2_ms = np.clip(rng.normal(2.5, 0.8, len(ti)), 0.1, None)\n",
        "\n",
        "# Elevation (m)\n",
        "Z_m = 100.0"
      ]
    },
    {
      "cell_type": "code",
      "execution_count": 8,
      "id": "50f234bf",
      "metadata": {},
      "outputs": [
        {
          "ename": "NameError",
          "evalue": "name 'eto_hourly_cimis' is not defined",
          "output_type": "error",
          "traceback": [
            "\u001b[1;31m---------------------------------------------------------------------------\u001b[0m",
            "\u001b[1;31mNameError\u001b[0m                                 Traceback (most recent call last)",
            "Cell \u001b[1;32mIn[8], line 2\u001b[0m\n\u001b[0;32m      1\u001b[0m \u001b[38;5;66;03m# 3) Run the function\u001b[39;00m\n\u001b[1;32m----> 2\u001b[0m df_hourly, eto_daily \u001b[38;5;241m=\u001b[39m \u001b[43meto_hourly_cimis\u001b[49m(\n\u001b[0;32m      3\u001b[0m     T_C\u001b[38;5;241m=\u001b[39mT_C,\n\u001b[0;32m      4\u001b[0m     ea_kPa\u001b[38;5;241m=\u001b[39mea_kPa,\n\u001b[0;32m      5\u001b[0m     Rn_Wm2\u001b[38;5;241m=\u001b[39mRn_Wm2,\n\u001b[0;32m      6\u001b[0m     U2_ms\u001b[38;5;241m=\u001b[39mU2_ms,\n\u001b[0;32m      7\u001b[0m     Z_m\u001b[38;5;241m=\u001b[39mZ_m,\n\u001b[0;32m      8\u001b[0m     time_index\u001b[38;5;241m=\u001b[39mti,\n\u001b[0;32m      9\u001b[0m )\n\u001b[0;32m     10\u001b[0m df_hourly\u001b[38;5;241m.\u001b[39mhead(), eto_daily\u001b[38;5;241m.\u001b[39mhead()\n",
            "\u001b[1;31mNameError\u001b[0m: name 'eto_hourly_cimis' is not defined"
          ]
        }
      ],
      "source": [
        "# 3) Run the function\n",
        "df_hourly, eto_daily = eto_hourly_cimis(\n",
        "    T_C=T_C,\n",
        "    ea_kPa=ea_kPa,\n",
        "    Rn_Wm2=Rn_Wm2,\n",
        "    U2_ms=U2_ms,\n",
        "    Z_m=Z_m,\n",
        "    time_index=ti,\n",
        ")\n",
        "df_hourly.head(), eto_daily.head()"
      ]
    },
    {
      "cell_type": "code",
      "execution_count": null,
      "id": "7f600cbb",
      "metadata": {},
      "outputs": [],
      "source": [
        "# 4) Quick visualization (matplotlib, single-figure as requested)\n",
        "plt.figure(figsize=(10, 4))\n",
        "eto_daily.plot(marker='o')\n",
        "plt.title('Daily ETo (mm/day) from hourly RET')\n",
        "plt.xlabel('Date')\n",
        "plt.ylabel('ETo (mm/day)')\n",
        "plt.grid(True)\n",
        "plt.show()"
      ]
    },
    {
      "cell_type": "code",
      "execution_count": null,
      "id": "b8944b83",
      "metadata": {},
      "outputs": [],
      "source": [
        "# 5) Save outputs\n",
        "out_dir = Path(\"outputs\")\n",
        "out_dir.mkdir(exist_ok=True)\n",
        "df_hourly.to_csv(out_dir / \"hourly_components_and_RET.csv\")\n",
        "eto_daily.to_csv(out_dir / \"daily_ETo.csv\", header=True)\n",
        "print(\"Saved:\", out_dir / \"hourly_components_and_RET.csv\")\n",
        "print(\"Saved:\", out_dir / \"daily_ETo.csv\")"
      ]
    },
    {
      "cell_type": "markdown",
      "id": "6f7d2f1d",
      "metadata": {},
      "source": [
        "### (Optional) Save to NetCDF with `xarray`\n",
        "If you want to keep coordinates/dimensions and write NetCDF:\n",
        "\n",
        "```python\n",
        "import xarray as xr\n",
        "\n",
        "ds_hourly = xr.Dataset({\n",
        "    'RET_mm_hr': (['time'], df_hourly['RET_mm_hr'].values),\n",
        "    'T_C': (['time'], df_hourly['T_C'].values),\n",
        "    'ea_kPa': (['time'], df_hourly['ea_kPa'].values),\n",
        "    'Rn_Wm2': (['time'], df_hourly['Rn_Wm2'].values),\n",
        "    'U2_ms': (['time'], df_hourly['U2_ms'].values),\n",
        "}, coords={'time': df_hourly.index})\n",
        "ds_hourly.to_netcdf('outputs/hourly_RET.nc')\n",
        "\n",
        "ds_daily = xr.Dataset({\n",
        "    'ETo_mm_day': (['date'], eto_daily.values)\n",
        "}, coords={'date': eto_daily.index})\n",
        "ds_daily.to_netcdf('outputs/daily_ETo.nc')\n",
        "```"
      ]
    }
  ],
  "metadata": {
    "kernelspec": {
      "display_name": "Python 3",
      "language": "python",
      "name": "python3"
    },
    "language_info": {
      "name": "python",
      "version": "3.x"
    }
  },
  "nbformat": 4,
  "nbformat_minor": 5
}
